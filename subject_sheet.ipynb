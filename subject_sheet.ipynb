{
 "cells": [
  {
   "cell_type": "markdown",
   "id": "693eb094",
   "metadata": {},
   "source": [
    "# Lab 3 : Introduction to streamlit"
   ]
  },
  {
   "cell_type": "markdown",
   "id": "4aa2145a",
   "metadata": {},
   "source": [
    "In this lab, we are going to create data web applications using the streamlit framework. Streamlit is a python framework that can turns your python program to a web application, taking care of the front end rendering automatically.\n",
    "Being a *full python* framework, it integrates easily with all the major processing, visualization and machine learning libraries that exists (i.e Numpy, Pandas, Matplotlib, Plotly, Seaborn, Scikit-learn, Pytorch, Tensorflow, ...)\n",
    "\n",
    "We will discuss the usage of this powerful library and how can we use it to plot some most commonly used graphs.\n",
    "\n",
    "During the different parts of this lab, we will go through the process of building streamlit applications for data visualization, following these major parts :\n",
    "\n",
    "- Main elements of a simple streamlit application \n",
    "- Building blocks of a Data visualization app in streamlit\n",
    "- Conceive and build your own web application : do it all by yourself"
   ]
  },
  {
   "cell_type": "markdown",
   "id": "76a678f7",
   "metadata": {},
   "source": [
    "### Part I : Main components of a simple streamlit application\n",
    "\n",
    "In this part, we will try to understand the important blocks and the main concepts behind the streamlit framework.\n",
    "\n",
    "- Streamlit installation and env setup\n",
    "- Streamlit commands first app\n",
    "- Streamlit components"
   ]
  },
  {
   "cell_type": "markdown",
   "id": "b7542e0f",
   "metadata": {},
   "source": [
    "### I.1 Installation and environment set up\n",
    "\n",
    "- Make sure that you have Python 3.10 installed"
   ]
  },
  {
   "cell_type": "code",
   "execution_count": 1,
   "id": "0ae64171",
   "metadata": {},
   "outputs": [
    {
     "name": "stdout",
     "output_type": "stream",
     "text": [
      "Python 3.10.12\n"
     ]
    }
   ],
   "source": [
    "!python --version"
   ]
  },
  {
   "cell_type": "markdown",
   "id": "985c4fb2",
   "metadata": {},
   "source": [
    "- For linux and MacOS users : Open a terminal and create a new virtual environment with [venv](https://docs.python.org/3/library/venv.html) and install Streamlit using pip\n",
    " \n",
    "        python -m venv st-env\n",
    "        source ./st-env/bin/activate\n",
    "        pip install streamlit\n",
    "\n",
    "- For windows users : work with anaconda !\n",
    "\n",
    "        Create a new environment by following these [instructions](https://docs.anaconda.com/anaconda/navigator/getting-started/#managing-environments)\n",
    "        open a cmd/terminal window from your anaconda virtual env and install streamlit with pip\n"
   ]
  },
  {
   "cell_type": "markdown",
   "id": "00e26fef",
   "metadata": {},
   "source": [
    "### I.2 Streamlit commands :\n",
    "\n",
    "- Test that the installation worked by typing on the your terminal :\n",
    "            \n",
    "            streamlit hello\n"
   ]
  },
  {
   "cell_type": "markdown",
   "id": "f5d5410b",
   "metadata": {},
   "source": [
    "- Runnning streamlit applications :\n",
    "\n",
    "A streamlit application is just a python script **(.py file)** that contains streamlit code along with other python librairies. So in order to create a streamlit application, you just have to follow these three steps :\n",
    "\n",
    "- In a folder, create a new .py file (not a .ipynb) named first_app.py\n",
    "- Open first_app.py in VSCode or Pycharm and copy the following lines :\n",
    "            \n",
    "            import streamlit as st\n",
    "            import pandas as pd\n",
    "            import numpy as np\n",
    "            st.title('My first streamlit app')\n",
    "        \n",
    "\n",
    "- Open a terminal, activate the st-env and run the streamlit app with this command :\n",
    "            \n",
    "        \n",
    "            streamlit run first_app.py\n",
    "        \n",
    "    \n",
    "Congrats, your app should automatically open in a new tab in your browser."
   ]
  },
  {
   "cell_type": "markdown",
   "id": "2780fe7c",
   "metadata": {},
   "source": [
    "### I.3 Streamlit components :\n",
    "\n",
    "- In the following, we will see how we can use streamlit to :\n",
    "\n",
    "    - Add text to your application\n",
    "    - Display data elements \n",
    "    - Draw different types of charts\n",
    "\n",
    "Let's create a new py file : `second_app.py` and practice with it the streamlit components.\n"
   ]
  },
  {
   "cell_type": "markdown",
   "id": "ff8af0a2",
   "metadata": {},
   "source": [
    "#### Adding text :\n",
    "\n",
    "- The most generic way to write text in your application if [st.write](https://docs.streamlit.io/library/api-reference/write-magic/st.write) :\n",
    "\n",
    "        st.write('Hello, *World!* :sunglasses:')\n",
    "\n",
    "- st.write is not only for text, it can be used with a lot of other data formats like numbers, data frames, assorted objects, dicts ...\n",
    "\n",
    "        st.write(1234)\n",
    "        st.write(pd.DataFrame({\n",
    "                'first column': [1, 2, 3, 4],\n",
    "                'second column': [10, 20, 30, 40],\n",
    "        }))\n"
   ]
  },
  {
   "cell_type": "markdown",
   "id": "2b62bde1",
   "metadata": {},
   "source": [
    "#### Display data elements :"
   ]
  },
  {
   "cell_type": "markdown",
   "id": "2607d821",
   "metadata": {},
   "source": [
    "- Even if st.write is generic and very useful, in order to gain in performance and functionalities, streamlit has specific functions that display data :\n",
    "\n",
    "    - st.dataframe for dataframes\n",
    "    - st.metric for KPIs and ML metrics\n",
    "    - st.json for pretty-printed JSON objects\n",
    "\n",
    "The file second_app.py contains the code snippets and the results of using this specific functions to display data elements. Please take time to review them !"
   ]
  },
  {
   "cell_type": "markdown",
   "id": "e341c58f",
   "metadata": {},
   "source": [
    "#### Display charts :\n",
    "\n",
    "Streamlit offers two ways to display charts in the applications, the native way and the integrated way.\n",
    "\n",
    "- The native way : It is based on the usage of the internal charts of streamlit using `line_chart`, `area_chart`, `bar_chart` and `map_chart`. These charts can be used directly in streamlit without importing any library\n",
    "\n",
    "\n",
    "- The integrated way : It is based on the usage of **external vizualisation librairies** like Matplolib, plotly, altair and bokeh. In order to integrate the charts in the streamlit application, you must do it in two steps\n",
    "\n",
    "    1) Create the figure with the specific library (as we have done until know in the notebooks)\n",
    "    2) Call the constructed figure with specific functions allocated to this library in streamlit (st.plotly for matplotlib, or st.altair_chart for altair for example)\n",
    "\n",
    "In order to illustrate the usage of those two ways to display charts, we have made for you two py files :\n",
    "\n",
    "        - `thrid_app.py` : Plotting the data the native way\n",
    "        - `fourth_app.py` : Plotting the data the integrated way\n",
    "\n",
    "Please take a look to those two python files and play with them to explore the library possibilities."
   ]
  },
  {
   "cell_type": "markdown",
   "id": "2c428f7b",
   "metadata": {},
   "source": [
    "### I.4 Adding interactivity with input widgets :\n",
    "\n",
    "With widgets, Streamlit allows you to bake interactivity directly into your apps with buttons, sliders, text inputs, and more.\n",
    "- st.button : Display a button widget. True if the button was clicked on the last run of the app, False otherwise.\n",
    "    \n",
    "- st.checkbox : Use checkboxes to show/hide data. One use case for checkboxes is to hide or show a specific chart or section in a streamlit app like python conditions.\n",
    "\n",
    "- Use a selectbox for options : Use st.selectbox to choose from a series. You can write in the options you want, or pass through an array or data frame column.\n",
    "\n",
    "- st.select_slider : Display a slider widget to select items from a list. This also allows you to render a range slider by passing a two-element tuple or list as the value.\n",
    "\n",
    "In order to illustrate the usage of widgets, we have the fifth_app.py that implements some of them. Play with them to explore the capabilities of the interactions that can be used in streamlit.  "
   ]
  },
  {
   "cell_type": "markdown",
   "id": "b4c36a8c",
   "metadata": {},
   "source": [
    "### I.5 Project Assignement : Build your own interactive application \n",
    "\n",
    "**Individual Project**\n",
    " \n",
    "**Deadline : Last Session, October 18th**\n",
    "\n",
    "You must present your work during the last session and answer some conceptual and technical  questions.\n",
    "\n",
    "Based on the precedent labs you have done. Build an interactive web application using the streamlit library and the one or two data viz librairies (matplotlib, seaborn, altair, bokeh and plotly).\n",
    "\n",
    "The **main idea** of the project is to choose a dataset from data.gouv.fr and build a dataviz web app to answer some useful questions about it, giving your users useful insights and the possibility to interact with the data.\n",
    "\n",
    "\n",
    "The dataset you choose can have a relation with the RSE theme, it is not mandatory but highly recomanded. This is the link to read about the RSE : https://www.economie.gouv.fr/entreprises/responsabilite-societale-entreprises-rse\n",
    "\n",
    "\n",
    "Technical guidelines :\n",
    "The streamlit application must respect the following **technical** requirements (you organize them in the way you want, because the most important thing is to bring insights to your users) :\n",
    "- All the code must be organized in functions, if you can write comments, it is always better. Think modulable code, blocks of data processing, workflow steps. This will help you organize your code in modular functions\n",
    "- 4 internal streamlit plots : st.line, st.bar_chart, st.scatter_chart, st.map\n",
    "- 4 different external plots (histograms, Bar, Scatter or Pie charts) integrated with your application from external librairies like matplotlib, seaborn, plotly or Altair\n",
    "- 4 interactive elements (checkbox, slider ....)\n",
    "- Cache usage : cache for data loading and pre-processing\n",
    "- Optional : A decorator that logs in a file the time execution interval in seconds (30 seconds, 2 seconds, 0.01 seconds, ...) and the timestamp of the call ()\n",
    "- Optional : try to organize your functions calls into a main function in order to have a clear workflow of your application\n",
    "\n",
    "Please keep in mind that the idea is to provied useful insights and draw a story about your data. So you **must** first take a moment to explore, conceive and organise your dashboard by **choosing** the questions you want to answer and the **insights** you want to present."
   ]
  }
 ],
 "metadata": {
  "kernelspec": {
   "display_name": "Python 3.10.5 64-bit",
   "language": "python",
   "name": "python3"
  },
  "language_info": {
   "codemirror_mode": {
    "name": "ipython",
    "version": 3
   },
   "file_extension": ".py",
   "mimetype": "text/x-python",
   "name": "python",
   "nbconvert_exporter": "python",
   "pygments_lexer": "ipython3",
   "version": "3.10.12"
  },
  "vscode": {
   "interpreter": {
    "hash": "97cc609b13305c559618ec78a438abc56230b9381f827f22d070313b9a1f3777"
   }
  }
 },
 "nbformat": 4,
 "nbformat_minor": 5
}
